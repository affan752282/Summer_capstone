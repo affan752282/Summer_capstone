{
  "cells": [
    {
      "cell_type": "code",
      "execution_count": null,
      "metadata": {
        "id": "LlwkKnB50IGF"
      },
      "outputs": [],
      "source": [
        "!pip install pathway bokeh --quiet # This cell may take a few seconds to execute."
      ]
    },
    {
      "cell_type": "code",
      "execution_count": null,
      "metadata": {
        "id": "pHuc1nkJveN3"
      },
      "outputs": [],
      "source": [
        "import numpy as np\n",
        "import pandas as pd\n",
        "import matplotlib.pyplot as plt\n",
        "import datetime\n",
        "from datetime import datetime\n",
        "import pathway as pw\n",
        "import bokeh.plotting\n",
        "import panel as pn"
      ]
    },
    {
      "cell_type": "markdown",
      "metadata": {
        "id": "gGpZl1FxjFXE"
      },
      "source": [
        "# Step 1: Importing and Preprocessing the Data"
      ]
    },
    {
      "cell_type": "code",
      "execution_count": null,
      "metadata": {
        "id": "4D6geoV9veN3"
      },
      "outputs": [],
      "source": [
        "df = pd.read_csv('dataset.csv')\n",
        "df.head()"
      ]
    },
    {
      "cell_type": "code",
      "source": [
        "df.shape"
      ],
      "metadata": {
        "id": "WGuKnOlfNROe"
      },
      "execution_count": null,
      "outputs": []
    },
    {
      "cell_type": "code",
      "execution_count": null,
      "metadata": {
        "id": "QBrvlQTjveN4"
      },
      "outputs": [],
      "source": [
        "# Combine the 'LastUpdatedDate' and 'LastUpdatedTime' columns into a single datetime column\n",
        "df['Timestamp'] = pd.to_datetime(df['LastUpdatedDate'] + ' ' + df['LastUpdatedTime'],\n",
        "                                  format='%d-%m-%Y %H:%M:%S')\n",
        "\n",
        "# Sort the DataFrame by the new 'Timestamp' column and reset the index\n",
        "df = df.sort_values('Timestamp').reset_index(drop=True)"
      ]
    },
    {
      "cell_type": "code",
      "source": [
        "df.head()"
      ],
      "metadata": {
        "id": "B1HZT5DZObc6"
      },
      "execution_count": null,
      "outputs": []
    },
    {
      "cell_type": "markdown",
      "source": [
        "Baseline Linear Model"
      ],
      "metadata": {
        "id": "rNPCtLd_PGKC"
      }
    },
    {
      "cell_type": "code",
      "execution_count": null,
      "metadata": {
        "id": "c52UkGGpveN5"
      },
      "outputs": [],
      "source": [
        "# Save the selected columns to a CSV file for streaming or downstream processing\n",
        "df[[\"Timestamp\", \"Occupancy\", \"Capacity\"]].to_csv(\"parking_stream.csv\", index=False)"
      ]
    },
    {
      "cell_type": "code",
      "source": [
        "# Define the schema for the streaming data using Pathway\n",
        "# This schema specifies the expected structure of each data row in the stream\n",
        "\n",
        "class ParkingSchema(pw.Schema):\n",
        "    Timestamp: str   # Timestamp of the observation (should ideally be in ISO format)\n",
        "    Occupancy: int   # Number of occupied parking spots\n",
        "    Capacity: int    # Total parking capacity at the location"
      ],
      "metadata": {
        "id": "klGMNFjCTJxi"
      },
      "execution_count": null,
      "outputs": []
    },
    {
      "cell_type": "code",
      "source": [
        "data = pw.demo.replay_csv(\"parking_stream.csv\", schema=ParkingSchema, input_rate=1000)"
      ],
      "metadata": {
        "id": "D-m-PjWYVUy8"
      },
      "execution_count": null,
      "outputs": []
    },
    {
      "cell_type": "code",
      "execution_count": null,
      "metadata": {
        "id": "IkBP_AA-zjec"
      },
      "outputs": [],
      "source": [
        "# Define the datetime format to parse the 'Timestamp' column\n",
        "fmt = \"%Y-%m-%d %H:%M:%S\"\n",
        "\n",
        "# Add new columns to the data stream:\n",
        "# - 't' contains the parsed full datetime\n",
        "# - 'day' extracts the date part and resets the time to midnight (useful for day-level aggregations)\n",
        "data_with_time = data.with_columns(\n",
        "    t = data.Timestamp.dt.strptime(fmt),\n",
        "    day = data.Timestamp.dt.strptime(fmt).dt.strftime(\"%Y-%m-%dT00:00:00\")\n",
        ")\n"
      ]
    },
    {
      "cell_type": "code",
      "execution_count": null,
      "metadata": {
        "id": "MznsSjanveN5"
      },
      "outputs": [],
      "source": [
        "# Define a daily tumbling window over the data stream using Pathway\n",
        "# This block performs temporal aggregation and computes a dynamic price for each day\n",
        "import datetime\n",
        "\n",
        "delta_window = (\n",
        "    data_with_time.windowby(\n",
        "        pw.this.t,  # Event time column to use for windowing (parsed datetime)\n",
        "        instance=pw.this.day,  # Logical partitioning key: one instance per calendar day\n",
        "        window=pw.temporal.tumbling(datetime.timedelta(days=1)),  # Fixed-size daily window\n",
        "        behavior=pw.temporal.exactly_once_behavior()  # Guarantees exactly-once processing semantics\n",
        "    )\n",
        "    .reduce(\n",
        "        t=pw.this._pw_window_end,                        # Assign the end timestamp of each window\n",
        "        occ_max=pw.reducers.max(pw.this.Occupancy),      # Highest occupancy observed in the window\n",
        "        occ_min=pw.reducers.min(pw.this.Occupancy),      # Lowest occupancy observed in the window\n",
        "        cap=pw.reducers.max(pw.this.Capacity),           # Maximum capacity observed (typically constant per spot)\n",
        "    )\n",
        "    .with_columns(\n",
        "        # Compute the price using a simple dynamic pricing formula:\n",
        "        #\n",
        "        # Pricing Formula:\n",
        "        #     price = base_price + demand_fluctuation\n",
        "        #     where:\n",
        "        #         base_price = 10 (fixed minimum price)\n",
        "        #         demand_fluctuation = (occ_max - occ_min) / cap\n",
        "        #\n",
        "        # Intuition:\n",
        "        # - The greater the difference between peak and low occupancy in a day,\n",
        "        #   the more volatile the demand is, indicating potential scarcity.\n",
        "        # - Dividing by capacity normalizes the fluctuation (to stay in [0,1] range).\n",
        "        # - This fluctuation is added to the base price of 10 to set the final price.\n",
        "        # - Example: If occ_max = 90, occ_min = 30, cap = 100\n",
        "        #            => price = 10 + (90 - 30)/100 = 10 + 0.6 = 10.6\n",
        "\n",
        "        price=10 + (pw.this.occ_max - pw.this.occ_min) / pw.this.cap\n",
        "    )\n",
        ")\n"
      ]
    },
    {
      "cell_type": "code",
      "execution_count": null,
      "metadata": {
        "id": "fOL3BJcGveN5"
      },
      "outputs": [],
      "source": [
        "# Activate the Panel extension to enable interactive visualizations\n",
        "pn.extension()\n",
        "\n",
        "# Define a custom Bokeh plotting function that takes a data source (from Pathway) and returns a figure\n",
        "def price_plotter(source):\n",
        "    # Create a Bokeh figure with datetime x-axis\n",
        "    fig = bokeh.plotting.figure(\n",
        "        height=400,\n",
        "        width=800,\n",
        "        title=\"Pathway: Daily Parking Price\",\n",
        "        x_axis_type=\"datetime\",  # Ensure time-based data is properly formatted on the x-axis\n",
        "    )\n",
        "    # Plot a line graph showing how the price evolves over time\n",
        "    fig.line(\"t\", \"price\", source=source, line_width=2, color=\"navy\")\n",
        "\n",
        "    # Overlay red circles at each data point for better visibility\n",
        "    fig.circle(\"t\", \"price\", source=source, size=6, color=\"red\")\n",
        "\n",
        "    return fig\n",
        "\n",
        "# Use Pathway's built-in .plot() method to bind the data stream (delta_window) to the Bokeh plot\n",
        "# - 'price_plotter' is the rendering function\n",
        "# - 'sorting_col=\"t\"' ensures the data is plotted in time order\n",
        "viz = delta_window.plot(price_plotter, sorting_col=\"t\")\n",
        "\n",
        "# Create a Panel layout and make it servable as a web app\n",
        "# This line enables the interactive plot to be displayed when the app is served\n",
        "pn.Column(viz).servable()"
      ]
    },
    {
      "cell_type": "code",
      "execution_count": null,
      "metadata": {
        "id": "0IHWGcX6veN6"
      },
      "outputs": [],
      "source": [
        "# Start the Pathway pipeline execution in the background\n",
        "# - This triggers the real-time data stream processing defined above\n",
        "# - %%capture --no-display suppresses output in the notebook interface\n",
        "\n",
        "%%capture --no-display\n",
        "pw.run()"
      ]
    },
    {
      "cell_type": "markdown",
      "source": [
        "Demand-Based Price Function\n"
      ],
      "metadata": {
        "id": "nshPRgYmhKES"
      }
    },
    {
      "cell_type": "code",
      "source": [
        "df[[\"Timestamp\", \"Occupancy\", \"Capacity\", \"QueueLength\", \"TrafficConditionNearby\", \"IsSpecialDay\", \"VehicleType\"]].to_csv(\"parking_stream2.csv\", index=False)"
      ],
      "metadata": {
        "id": "9YUcGgTUfM07"
      },
      "execution_count": null,
      "outputs": []
    },
    {
      "cell_type": "code",
      "metadata": {
        "id": "SCjdj1wvaAKx"
      },
      "source": [
        "class ParkingSchema(pw.Schema):\n",
        "    Timestamp: str\n",
        "    Occupancy: int\n",
        "    Capacity: int\n",
        "    QueueLength: int\n",
        "    TrafficConditionNearby: str\n",
        "    IsSpecialDay: int\n",
        "    VehicleType: str\n",
        "\n",
        "data = pw.demo.replay_csv(\"parking_stream2.csv\", schema=ParkingSchema, input_rate=1000)\n",
        "\n",
        "data_filtered = data.select(\n",
        "    data.Timestamp,\n",
        "    data.Occupancy,\n",
        "    data.Capacity,\n",
        "    data.QueueLength,\n",
        "    data.TrafficConditionNearby,\n",
        "    data.IsSpecialDay,\n",
        "    data.VehicleType\n",
        ")"
      ],
      "execution_count": null,
      "outputs": []
    },
    {
      "cell_type": "code",
      "metadata": {
        "id": "07c53414"
      },
      "source": [
        "# Define weights for the demand function features\n",
        "alpha = 0.6  # Weight for Occupancy rate\n",
        "beta = 0.2   # Weight for Queue Length\n",
        "gamma = 0.1  # Weight for Traffic Condition\n",
        "delta = 0.5  # Weight for Special Day\n",
        "epsilon = 0.3 # Weight for Vehicle Type\n",
        "\n",
        "# Define the price adjustment factor\n",
        "lambda_val = 1.0\n",
        "\n",
        "# Define the base price\n",
        "BASE_PRICE = 10"
      ],
      "execution_count": null,
      "outputs": []
    },
    {
      "cell_type": "code",
      "metadata": {
        "id": "f3fc2e3b"
      },
      "source": [
        "@pw.udf\n",
        "def calculate_demand(occupancy: int, capacity: int, queue_length: int, traffic_condition: str, is_special_day: int, vehicle_type: str, alpha: float, beta: float, gamma: float, delta: float, epsilon: float) -> float:\n",
        "    # Handle potential division by zero\n",
        "    occupancy_rate = occupancy / capacity if capacity > 0 else 0\n",
        "\n",
        "    # Map traffic condition to a numerical value\n",
        "    traffic_mapping = {\"low\": 0.2, \"moderate\": 0.6, \"high\": 1.0}\n",
        "    traffic_value = traffic_mapping.get(traffic_condition.lower(), 0.5)\n",
        "\n",
        "    # Map vehicle type to a numerical value\n",
        "    vehicle_mapping = {\"car\": 0.5, \"bike\": 0.3, \"cycle\": 0.1, \"others\": 0.7}\n",
        "    vehicle_value = vehicle_mapping.get(vehicle_type.lower(), 0.5)\n",
        "\n",
        "    # Calculate demand using the formula\n",
        "    demand = (alpha * occupancy_rate +\n",
        "              beta * queue_length +\n",
        "              gamma * traffic_value +\n",
        "              delta * is_special_day +\n",
        "              epsilon * vehicle_value)\n",
        "\n",
        "    return demand"
      ],
      "execution_count": null,
      "outputs": []
    },
    {
      "cell_type": "code",
      "metadata": {
        "id": "46a70a0f"
      },
      "source": [
        "@pw.udf\n",
        "def calculate_price(demand: float, base_price: float, lambda_val: float) -> float:\n",
        "    # Calculate the raw price\n",
        "    raw_price = base_price + lambda_val * demand\n",
        "\n",
        "    # Define minimum and maximum price bounds\n",
        "    min_price = 5.0\n",
        "    max_price = 25.0\n",
        "\n",
        "    # Apply bounding to the calculated price\n",
        "    bounded_price = max(min_price, min(max_price, raw_price))\n",
        "\n",
        "    return bounded_price"
      ],
      "execution_count": null,
      "outputs": []
    },
    {
      "cell_type": "code",
      "metadata": {
        "id": "mc9EIdgsaP2b"
      },
      "source": [
        "# Apply the calculate_demand UDF to the data_filtered table\n",
        "data_with_demand = data_filtered.with_columns(\n",
        "    Demand=calculate_demand(\n",
        "        data_filtered.Occupancy,\n",
        "        data_filtered.Capacity,\n",
        "        data_filtered.QueueLength,\n",
        "        data_filtered.TrafficConditionNearby,\n",
        "        data_filtered.IsSpecialDay,\n",
        "        data_filtered.VehicleType,\n",
        "        alpha,\n",
        "        beta,\n",
        "        gamma,\n",
        "        delta,\n",
        "        epsilon\n",
        "    )\n",
        ")\n",
        "\n",
        "# Apply the calculate_price UDF to the data_with_demand table\n",
        "price_data = data_with_demand.with_columns(\n",
        "    PredictedPrice=calculate_price(\n",
        "        data_with_demand.Demand,\n",
        "        BASE_PRICE,\n",
        "        lambda_val\n",
        "    )\n",
        ").select(\n",
        "    data_with_demand.Timestamp,\n",
        "    pw.this.PredictedPrice\n",
        ")"
      ],
      "execution_count": null,
      "outputs": []
    },
    {
      "cell_type": "code",
      "metadata": {
        "id": "7c6bdef6"
      },
      "source": [
        "# Activate the Panel extension to enable interactive visualizations\n",
        "pn.extension()\n",
        "\n",
        "# Define a custom Bokeh plotting function that takes a data source (from Pathway) and returns a figure\n",
        "def price_plotter(source):\n",
        "    # Create a Bokeh figure with datetime x-axis\n",
        "    fig = bokeh.plotting.figure(\n",
        "        height=400,\n",
        "        width=800,\n",
        "        title=\"Pathway: Daily Parking Price (Demand-Based Model)\",\n",
        "        x_axis_type=\"datetime\",  # Ensure time-based data is properly formatted on the x-axis\n",
        "    )\n",
        "    # Plot a line graph showing how the price evolves over time, using Timestamp and PredictedPrice\n",
        "    fig.line(\"Timestamp\", \"PredictedPrice\", source=source, line_width=2, color=\"navy\")\n",
        "\n",
        "    # Overlay red circles at each data point for better visibility, using Timestamp and PredictedPrice\n",
        "    fig.circle(\"Timestamp\", \"PredictedPrice\", source=source, size=6, color=\"red\")\n",
        "\n",
        "    return fig\n",
        "\n",
        "# Use Pathway's built-in .plot() method to bind the data stream (price_data) to the Bokeh plot\n",
        "# - 'price_plotter' is the rendering function\n",
        "# - 'sorting_col=\"Timestamp\"' ensures the data is plotted in time order\n",
        "viz = price_data.plot(price_plotter, sorting_col=\"Timestamp\")\n",
        "\n",
        "# Create a Panel layout and make it servable as a web app\n",
        "# This line enables the interactive plot to be displayed when the app is served\n",
        "pn.Column(viz).servable()"
      ],
      "execution_count": null,
      "outputs": []
    },
    {
      "cell_type": "code",
      "source": [
        "pw.run()"
      ],
      "metadata": {
        "id": "y3vOU5HnhBWh"
      },
      "execution_count": null,
      "outputs": []
    },
    {
      "cell_type": "code",
      "source": [],
      "metadata": {
        "id": "MIqI4GRzhfEZ"
      },
      "execution_count": null,
      "outputs": []
    }
  ],
  "metadata": {
    "colab": {
      "provenance": [],
      "gpuType": "T4"
    },
    "kaggle": {
      "accelerator": "none",
      "dataSources": [
        {
          "datasetId": 7749157,
          "sourceId": 12294858,
          "sourceType": "datasetVersion"
        }
      ],
      "dockerImageVersionId": 31040,
      "isGpuEnabled": false,
      "isInternetEnabled": true,
      "language": "python",
      "sourceType": "notebook"
    },
    "kernelspec": {
      "display_name": "Python 3",
      "name": "python3"
    },
    "language_info": {
      "codemirror_mode": {
        "name": "ipython",
        "version": 3
      },
      "file_extension": ".py",
      "mimetype": "text/x-python",
      "name": "python",
      "nbconvert_exporter": "python",
      "pygments_lexer": "ipython3",
      "version": "3.11.11"
    },
    "accelerator": "GPU"
  },
  "nbformat": 4,
  "nbformat_minor": 0
}